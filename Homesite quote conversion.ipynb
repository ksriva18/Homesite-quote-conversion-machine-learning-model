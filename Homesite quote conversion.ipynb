{
 "cells": [
  {
   "cell_type": "code",
   "execution_count": 1,
   "id": "82deb4c2-16fe-4a8e-8b4e-0b4d7d2d475d",
   "metadata": {},
   "outputs": [
    {
     "name": "stdout",
     "output_type": "stream",
     "text": [
      "Requirement already satisfied: vecstack in c:\\users\\kriti\\anaconda\\lib\\site-packages (0.4.0)\n",
      "Requirement already satisfied: numpy in c:\\users\\kriti\\anaconda\\lib\\site-packages (from vecstack) (1.26.4)\n",
      "Requirement already satisfied: scipy in c:\\users\\kriti\\anaconda\\lib\\site-packages (from vecstack) (1.13.1)\n",
      "Requirement already satisfied: scikit-learn>=0.18 in c:\\users\\kriti\\anaconda\\lib\\site-packages (from vecstack) (1.4.2)\n",
      "Requirement already satisfied: joblib>=1.2.0 in c:\\users\\kriti\\anaconda\\lib\\site-packages (from scikit-learn>=0.18->vecstack) (1.4.2)\n",
      "Requirement already satisfied: threadpoolctl>=2.0.0 in c:\\users\\kriti\\anaconda\\lib\\site-packages (from scikit-learn>=0.18->vecstack) (2.2.0)\n"
     ]
    }
   ],
   "source": [
    "!pip install vecstack\n",
    "from vecstack import stacking\n",
    "import pandas as pd\n",
    "import numpy as np\n",
    "from sklearn.metrics import accuracy_score #works\n",
    "from sklearn.model_selection import train_test_split\n",
    "from sklearn.ensemble import RandomForestClassifier\n",
    "from sklearn.tree import DecisionTreeClassifier\n",
    "from sklearn.model_selection import GridSearchCV\n",
    "from sklearn.model_selection import RandomizedSearchCV\n",
    "from sklearn.model_selection import cross_val_score\n",
    "from sklearn.metrics import classification_report, confusion_matrix\n",
    "from sklearn.ensemble import GradientBoostingClassifier\n",
    "from sklearn.neural_network import MLPClassifier\n",
    "#from sklearn.ensemble import RandomForestClassifier\n",
    "from imblearn.over_sampling import SMOTE\n",
    "from sklearn.svm import SVC\n",
    "from sklearn.svm import LinearSVC\n",
    "from sklearn.neighbors import KNeighborsClassifier\n",
    "from collections import Counter #for Smote,\n",
    "from sklearn.preprocessing import MinMaxScaler\n",
    "\n",
    "import warnings\n",
    "warnings.filterwarnings(\"ignore\")"
   ]
  },
  {
   "cell_type": "code",
   "execution_count": 4,
   "id": "64ed434b-ae70-42a7-89d7-be4bf4656dff",
   "metadata": {},
   "outputs": [
    {
     "name": "stdout",
     "output_type": "stream",
     "text": [
      "(65000, 596)\n",
      "(173836, 595)\n"
     ]
    }
   ],
   "source": [
    "train_data = pd.read_csv('RevisedHomesiteTrain1.csv')\n",
    "test_data = pd.read_csv('RevisedHomesiteTest1.csv')\n",
    "test_data= test_data.drop(['GeographicField64'], axis=1)\n",
    "\n",
    "\n",
    "print(train_data.shape)\n",
    "print(test_data.shape)"
   ]
  },
  {
   "cell_type": "code",
   "execution_count": 5,
   "id": "9df354ee-e8e6-4485-8aeb-3c8258bd4162",
   "metadata": {},
   "outputs": [
    {
     "data": {
      "text/plain": [
       "((65000, 595), (65000,))"
      ]
     },
     "execution_count": 5,
     "metadata": {},
     "output_type": "execute_result"
    }
   ],
   "source": [
    "X_train = train_data.drop(['QuoteConversion_Flag'], axis=1)  \n",
    "y_train = train_data['QuoteConversion_Flag']\n",
    "X_train.shape, y_train.shape"
   ]
  },
  {
   "cell_type": "code",
   "execution_count": 6,
   "id": "56289c2d-df18-4751-b20e-29e7740fe79e",
   "metadata": {},
   "outputs": [
    {
     "name": "stdout",
     "output_type": "stream",
     "text": [
      "Shape of X_train: (65000, 595)\n",
      "Shape of y_train: (65000,)\n"
     ]
    }
   ],
   "source": [
    "# Reset the index to make sure both X_train and y_train are aligned\n",
    "X_train = X_train.reset_index(drop=True)\n",
    "y_train = y_train.reset_index(drop=True)\n",
    "\n",
    "# Verify that both have the same number of rows\n",
    "print(\"Shape of X_train:\", X_train.shape)\n",
    "print(\"Shape of y_train:\", y_train.shape)"
   ]
  },
  {
   "cell_type": "code",
   "execution_count": 7,
   "id": "23f1ed41-5ae7-4438-9415-dca3545146ce",
   "metadata": {},
   "outputs": [
    {
     "name": "stdout",
     "output_type": "stream",
     "text": [
      "(65000, 595)\n",
      "(173836, 595)\n"
     ]
    }
   ],
   "source": [
    "scaler = MinMaxScaler()\n",
    "\n",
    "# Fit the scaler on training data\n",
    "X_train_scaled = scaler.fit_transform(X_train)\n",
    "print(X_train_scaled.shape)\n",
    "\n",
    "# Transform the test data using the same scaler\n",
    "X_test_scaled = scaler.transform(test_data)\n",
    "print(X_test_scaled.shape)"
   ]
  },
  {
   "cell_type": "code",
   "execution_count": 8,
   "id": "4280e0d0-9a59-499b-89e1-2c154f4cd1d2",
   "metadata": {},
   "outputs": [],
   "source": [
    "# Spliting the training set\n",
    "X_train1, X_val, y_train, y_val = train_test_split(X_train, y_train, test_size=0.2, random_state=42)"
   ]
  },
  {
   "cell_type": "code",
   "execution_count": 9,
   "id": "eb253abe-3943-4eb7-9640-f72b999caa68",
   "metadata": {},
   "outputs": [
    {
     "name": "stdout",
     "output_type": "stream",
     "text": [
      "Model Parameters: {'ccp_alpha': 0.0, 'class_weight': None, 'criterion': 'gini', 'max_depth': None, 'max_features': None, 'max_leaf_nodes': None, 'min_impurity_decrease': 0.0, 'min_samples_leaf': 1, 'min_samples_split': 2, 'min_weight_fraction_leaf': 0.0, 'monotonic_cst': None, 'random_state': None, 'splitter': 'best'}\n",
      "Accuracy Score (validation) for Decision Tree: 0.889538\n"
     ]
    }
   ],
   "source": [
    "# Decision tree\n",
    "\n",
    "# Initialize and train the Decision Tree model\n",
    "decisiont = DecisionTreeClassifier()\n",
    "decisiont.fit(X_train1, y_train)\n",
    "\n",
    "print(\"Model Parameters:\", decisiont.get_params())\n",
    "\n",
    "# Predictions on the validation set\n",
    "Y_val_pred = decisiont.predict(X_val)\n",
    "\n",
    "# Accuracy on the validation set\n",
    "accuracy = accuracy_score(y_val, Y_val_pred)\n",
    "print(f\"Accuracy Score (validation) for Decision Tree: {accuracy:.6f}\")"
   ]
  },
  {
   "cell_type": "code",
   "execution_count": 58,
   "id": "945edcdc-ba85-45fb-a1ac-8226f450ff28",
   "metadata": {},
   "outputs": [],
   "source": [
    "#Hyperparameter tuning parameters\n",
    "parameters={'min_samples_split' : [2, 10, 20],'max_depth': [10, 20, 30]}"
   ]
  },
  {
   "cell_type": "code",
   "execution_count": 57,
   "id": "45e660ad-e342-4f89-b82f-06079ffb7809",
   "metadata": {},
   "outputs": [
    {
     "name": "stdout",
     "output_type": "stream",
     "text": [
      "{'min_samples_split': 2, 'max_depth': 10}\n"
     ]
    }
   ],
   "source": [
    "#Hyperparameter tuning for decision tree classifier\n",
    "decisiont_random = RandomizedSearchCV(decisiont,parameters,n_iter=15)\n",
    "decisiont_random.fit(X_train1, y_train)\n",
    "grid_parm=decisiont_random.best_params_\n",
    "print(grid_parm)\n",
    "\n",
    "#Using the parameters obtained from HyperParameterTuning in the DecisionTreeClassifier\n",
    "dt = DecisionTreeClassifier(**grid_parm)\n",
    "dt.fit(X_train1,y_train)\n",
    "dt_predict = dt.predict(X_val)"
   ]
  },
  {
   "cell_type": "code",
   "execution_count": 59,
   "id": "0c440808-e0e7-43b5-a12c-218e96fac99b",
   "metadata": {},
   "outputs": [
    {
     "name": "stdout",
     "output_type": "stream",
     "text": [
      "Accuracy Score (validation) for Decision Tree after Hyperparameter Tuning: 0.917846\n",
      "Confusion Matrix after Hyperparameter Tuning for Decision Tree:\n",
      "[[10286   269]\n",
      " [  799  1646]]\n",
      "=== Classification Report ===\n",
      "              precision    recall  f1-score   support\n",
      "\n",
      "           0       0.93      0.97      0.95     10555\n",
      "           1       0.86      0.67      0.76      2445\n",
      "\n",
      "    accuracy                           0.92     13000\n",
      "   macro avg       0.89      0.82      0.85     13000\n",
      "weighted avg       0.92      0.92      0.91     13000\n",
      "\n",
      "=== All AUC Scores ===\n",
      "[0.94355506 0.93315493 0.93040935 0.94200384 0.93927236 0.93967723\n",
      " 0.93172132 0.92823599 0.9342832  0.94222052]\n"
     ]
    }
   ],
   "source": [
    "# Accuracy on the validation set\n",
    "accuracy = accuracy_score(y_val, dt_predict)\n",
    "print(f\"Accuracy Score (validation) for Decision Tree after Hyperparameter Tuning: {accuracy:.6f}\")\n",
    "\n",
    "# Confusion matrix\n",
    "print(\"Confusion Matrix after Hyperparameter Tuning for Decision Tree:\")\n",
    "print(confusion_matrix(y_val, dt_predict))\n",
    "\n",
    "# Classification report\n",
    "print(\"=== Classification Report ===\")\n",
    "print(classification_report(y_val, dt_predict))\n",
    "\n",
    "# Cross-validation AUC score\n",
    "dt_cv_score = cross_val_score(dt, X_train1, y_train, cv=10, scoring=\"roc_auc\")\n",
    "print(\"=== All AUC Scores ===\")\n",
    "print(dt_cv_score)"
   ]
  },
  {
   "cell_type": "code",
   "execution_count": 10,
   "id": "a75ebf20-99bc-4e9f-a975-f39fdf054211",
   "metadata": {},
   "outputs": [
    {
     "name": "stdout",
     "output_type": "stream",
     "text": [
      "Accuracy Score (validation) for Random Forest: 0.908000\n",
      "Confusion Matrix for Random Forest:\n",
      "[[10356   199]\n",
      " [  997  1448]]\n"
     ]
    }
   ],
   "source": [
    "#Random forest\n",
    "# Initialize and train the Random Forest model\n",
    "randomforest = RandomForestClassifier()\n",
    "randomforest.fit(X_train1, y_train)\n",
    "\n",
    "# Predictions on the validation set\n",
    "randomf_predict = randomforest.predict(X_val)\n",
    "\n",
    "# Accuracy on the validation set\n",
    "accuracy = accuracy_score(y_val, randomf_predict)\n",
    "print(f\"Accuracy Score (validation) for Random Forest: {accuracy:.6f}\")\n",
    "\n",
    "# Confusion matrix\n",
    "print(\"Confusion Matrix for Random Forest:\")\n",
    "print(confusion_matrix(y_val, randomf_predict))"
   ]
  },
  {
   "cell_type": "code",
   "execution_count": 61,
   "id": "8c956a13-56ac-409c-9d9f-93cddaa704f4",
   "metadata": {},
   "outputs": [
    {
     "name": "stdout",
     "output_type": "stream",
     "text": [
      "Best Parameters from Hyperparameter Tuning: {'min_samples_split': 20, 'max_depth': 30}\n",
      "Accuracy Score (validation) after Hyperparameter Tuning for Random Forest: 0.908692\n",
      "Confusion Matrix after Hyperparameter Tuning for Random Forest:\n",
      "[[10375   180]\n",
      " [ 1007  1438]]\n",
      "=== Classification Report ===\n",
      "              precision    recall  f1-score   support\n",
      "\n",
      "           0       0.91      0.98      0.95     10555\n",
      "           1       0.89      0.59      0.71      2445\n",
      "\n",
      "    accuracy                           0.91     13000\n",
      "   macro avg       0.90      0.79      0.83     13000\n",
      "weighted avg       0.91      0.91      0.90     13000\n",
      "\n",
      "=== All AUC Scores ===\n",
      "[0.94726081 0.94464341 0.94588313 0.95070419 0.94559226 0.94586048\n",
      " 0.94352928 0.94545054 0.94960088 0.9484599 ]\n",
      "\n",
      "\n",
      "=== Mean AUC Score ===\n",
      "Mean AUC Score - Random Forest: 0.946698\n"
     ]
    }
   ],
   "source": [
    "#Hyperparameter tuning for random forest\n",
    "rf_random = RandomizedSearchCV(randomforest, parameters, n_iter=15, random_state=42, n_jobs=-1)\n",
    "rf_random.fit(X_train1, y_train)\n",
    "\n",
    "# Best parameters from hyperparameter tuning\n",
    "grid_parm_rf = rf_random.best_params_\n",
    "print(\"Best Parameters from Hyperparameter Tuning:\", grid_parm_rf)\n",
    "\n",
    "# Random Forest with best parameters\n",
    "rf = RandomForestClassifier(**grid_parm_rf)\n",
    "rf.fit(X_train1, y_train)\n",
    "\n",
    "# Predictions on the validation set\n",
    "rf_predict = rf.predict(X_val)\n",
    "\n",
    "# Accuracy on the validation set\n",
    "accuracy = accuracy_score(y_val, rf_predict)\n",
    "print(f\"Accuracy Score (validation) after Hyperparameter Tuning for Random Forest: {accuracy:.6f}\")\n",
    "\n",
    "# Confusion matrix\n",
    "print(\"Confusion Matrix after Hyperparameter Tuning for Random Forest:\")\n",
    "print(confusion_matrix(y_val, rf_predict))\n",
    "\n",
    "# Classification report\n",
    "print(\"=== Classification Report ===\")\n",
    "print(classification_report(y_val, rf_predict))\n",
    "\n",
    "# Cross-validation AUC scores\n",
    "rf_cv_score = cross_val_score(rf, X_train1, y_train, cv=10, scoring=\"roc_auc\")\n",
    "print(\"=== All AUC Scores ===\")\n",
    "print(rf_cv_score)\n",
    "\n",
    "print(\"\\n\")\n",
    "print(\"=== Mean AUC Score ===\")\n",
    "print(f\"Mean AUC Score - Random Forest: {rf_cv_score.mean():.6f}\")"
   ]
  },
  {
   "cell_type": "code",
   "execution_count": null,
   "id": "c7e000e7-c822-430d-9078-a3909c3f4e0f",
   "metadata": {},
   "outputs": [],
   "source": [
    "# MultiLayer Perceptron Model\n",
    "\n",
    "# Initialize and train the MultiLayer Perceptron model\n",
    "mlp = MLPClassifier(max_iter=20)\n",
    "mlp.fit(X_train1, y_train)\n",
    "\n",
    "# Make predictions on the test set\n",
    "mlp_predict = mlp.predict(X_val)\n",
    "\n",
    "# Calculate accuracy on the test set\n",
    "accuracy = accuracy_score(y_val, mlp_predict)\n",
    "print(f\"Accuracy Score (test) for MultiLayer Perceptron: {accuracy:.6f}\")\n",
    "\n",
    "# Confusion matrix\n",
    "print(\"Confusion Matrix for MultiLayer Perceptron:\")\n",
    "print(confusion_matrix(y_val, mlp_predict))"
   ]
  },
  {
   "cell_type": "code",
   "execution_count": 63,
   "id": "5a87b7cf-4345-4521-a9d9-da51b63b9423",
   "metadata": {},
   "outputs": [
    {
     "name": "stdout",
     "output_type": "stream",
     "text": [
      "Best Hyperparameters from RandomizedSearchCV: {'learning_rate': 'adaptive', 'hidden_layer_sizes': (50,), 'activation': 'relu'}\n",
      "Accuracy Score (test) after Hyperparameter Tuning for MultiLayer Perceptron: 0.609538\n",
      "Confusion Matrix after Hyperparameter Tuning for MultiLayer Perceptron:\n",
      "[[5883 4672]\n",
      " [ 404 2041]]\n",
      "=== Classification Report ===\n",
      "              precision    recall  f1-score   support\n",
      "\n",
      "           0       0.94      0.56      0.70     10555\n",
      "           1       0.30      0.83      0.45      2445\n",
      "\n",
      "    accuracy                           0.61     13000\n",
      "   macro avg       0.62      0.70      0.57     13000\n",
      "weighted avg       0.82      0.61      0.65     13000\n",
      "\n",
      "=== All AUC Scores ===\n",
      "[0.84001733 0.6812623  0.84425955 0.87626999 0.83369988]\n",
      "\n",
      "\n",
      "=== Mean AUC Score ===\n",
      "Mean AUC Score - MultiLayer Perceptron: 0.815102\n"
     ]
    }
   ],
   "source": [
    "# Hyperparameter grid for MLP\n",
    "parameters_mlp = {'hidden_layer_sizes': [(50,), (30, 10)],\n",
    "                  'activation': ['relu'],\n",
    "                  'learning_rate': ['adaptive']\n",
    "                  }\n",
    "\n",
    "# Initialize the MLPClassifier\n",
    "mlp = MLPClassifier()\n",
    "\n",
    "# RandomizedSearchCV for hyperparameters tuning\n",
    "mlp_random = RandomizedSearchCV(mlp, parameters_mlp, n_iter=5, cv=2, random_state=42, n_jobs=-1)\n",
    "mlp_random.fit(X_train1, y_train)\n",
    "\n",
    "# Best hyperparameters after tuning\n",
    "grid_parm = mlp_random.best_params_\n",
    "print(\"Best Hyperparameters from RandomizedSearchCV:\", grid_parm)\n",
    "\n",
    "# Using the best hyperparameters to train the model\n",
    "mlp = MLPClassifier(**grid_parm)\n",
    "mlp.fit(X_train1, y_train)\n",
    "\n",
    "# Make predictions on the validation set\n",
    "mlp_predict = mlp.predict(X_val)\n",
    "\n",
    "# Calculate accuracy on the validation set\n",
    "accuracy = accuracy_score(y_val, mlp_predict)\n",
    "print(f\"Accuracy Score (test) after Hyperparameter Tuning for MultiLayer Perceptron: {accuracy:.6f}\")\n",
    "\n",
    "# Confusion Matrix\n",
    "print(\"Confusion Matrix after Hyperparameter Tuning for MultiLayer Perceptron:\")\n",
    "print(confusion_matrix(y_val, mlp_predict))\n",
    "\n",
    "# Classification Report\n",
    "print(\"=== Classification Report ===\")\n",
    "print(classification_report(y_val, mlp_predict))\n",
    "\n",
    "# Cross-validation AUC scores\n",
    "mlp_cv_score = cross_val_score(mlp, X_train1, y_train, cv=5, scoring=\"roc_auc\")\n",
    "print(\"=== All AUC Scores ===\")\n",
    "print(mlp_cv_score)\n",
    "\n",
    "print(\"\\n\")\n",
    "print(\"=== Mean AUC Score ===\")\n",
    "print(f\"Mean AUC Score - MultiLayer Perceptron: {mlp_cv_score.mean():.6f}\")"
   ]
  },
  {
   "cell_type": "code",
   "execution_count": 12,
   "id": "7a482ba0-e3e7-4c1c-abd9-517ce5e5346e",
   "metadata": {},
   "outputs": [
    {
     "name": "stdout",
     "output_type": "stream",
     "text": [
      "Accuracy Score (validation) for Linear SVM Classifier: 0.706538\n",
      "Confusion Matrix for Linear SVM Classifier:\n",
      "[[8104 2451]\n",
      " [1364 1081]]\n"
     ]
    }
   ],
   "source": [
    "#Linear Support Vector Machine Model\n",
    "\n",
    "linsvm = LinearSVC(max_iter=100)\n",
    "linsvm.fit(X_train1, y_train)\n",
    "\n",
    "# Predictions on the validation set\n",
    "linsvm_predict = linsvm.predict(X_val)\n",
    "\n",
    "# Accuracy on the validation set\n",
    "accuracy = accuracy_score(y_val, linsvm_predict)\n",
    "print(f\"Accuracy Score (validation) for Linear SVM Classifier: {accuracy:.6f}\")\n",
    "\n",
    "# Confusion matrix\n",
    "print(\"Confusion Matrix for Linear SVM Classifier:\")\n",
    "print(confusion_matrix(y_val, linsvm_predict))\n"
   ]
  },
  {
   "cell_type": "code",
   "execution_count": 14,
   "id": "8184fd47-76f9-4fcc-94f2-72cb2b59ee55",
   "metadata": {},
   "outputs": [
    {
     "name": "stdout",
     "output_type": "stream",
     "text": [
      "Accuracy Score (validation) for KNeighborsClassifier: 0.759692\n",
      "Confusion Matrix for KNeighborsClassifier:\n",
      "[[9606  949]\n",
      " [2175  270]]\n"
     ]
    }
   ],
   "source": [
    "#K-Nearest Neighbor Model\n",
    "\n",
    "# Initialize and train the KNeighborsClassifier model\n",
    "neigh = KNeighborsClassifier(n_neighbors=3)\n",
    "neigh.fit(X_train1, y_train)\n",
    "\n",
    "# Predict on validation set\n",
    "neigh_predict = neigh.predict(X_val)\n",
    "\n",
    "# Calculate accuracy\n",
    "accuracy = accuracy_score(y_val, neigh_predict)\n",
    "print(f\"Accuracy Score (validation) for KNeighborsClassifier: {accuracy:.6f}\")\n",
    "\n",
    "# Print Confusion Matrix\n",
    "print(\"Confusion Matrix for KNeighborsClassifier:\")\n",
    "print(confusion_matrix(y_val, neigh_predict))"
   ]
  },
  {
   "cell_type": "code",
   "execution_count": 64,
   "id": "b2a07756-d2de-4ebe-8d0a-f358b31429ee",
   "metadata": {},
   "outputs": [
    {
     "name": "stdout",
     "output_type": "stream",
     "text": [
      "Best Hyperparameters: {'weights': 'uniform', 'p': 2, 'n_neighbors': 5}\n",
      "Accuracy Score (validation) after hyperparameter tuning: 0.782462\n",
      "Confusion Matrix after hyperparameter tuning for KNeighborsClassifier:\n",
      "[[10037   518]\n",
      " [ 2310   135]]\n",
      "=== Classification Report ===\n",
      "              precision    recall  f1-score   support\n",
      "\n",
      "           0       0.81      0.95      0.88     10555\n",
      "           1       0.21      0.06      0.09      2445\n",
      "\n",
      "    accuracy                           0.78     13000\n",
      "   macro avg       0.51      0.50      0.48     13000\n",
      "weighted avg       0.70      0.78      0.73     13000\n",
      "\n",
      "=== All AUC Scores ===\n",
      "[0.52077107 0.52705416 0.53566399 0.5315863  0.53492147]\n",
      "=== Mean AUC Score ===\n",
      "Mean AUC Score - KNeighborsClassifier: 0.529999\n"
     ]
    }
   ],
   "source": [
    "#Hyperparameter tuning for K-Nearest Neighbor classifier\n",
    "\n",
    "parameters = {'n_neighbors': [3, 5], 'weights': ['uniform', 'distance'], 'p': [2]}\n",
    "\n",
    "# Perform RandomizedSearchCV to tune hyperparameters\n",
    "neigh = KNeighborsClassifier()\n",
    "neigh_random = RandomizedSearchCV(neigh, parameters, n_iter=5, random_state=42, n_jobs=-1)\n",
    "neigh_random.fit(X_train1, y_train)\n",
    "\n",
    "# Best hyperparameters\n",
    "grid_parm = neigh_random.best_params_\n",
    "print(\"Best Hyperparameters:\", grid_parm)\n",
    "\n",
    "# Train KNeighborsClassifier using best parameters\n",
    "neigh = KNeighborsClassifier(**grid_parm)\n",
    "neigh.fit(X_train1, y_train)\n",
    "\n",
    "# Predict on validation data\n",
    "neigh_predict = neigh.predict(X_val)\n",
    "\n",
    "# Calculate accuracy\n",
    "accuracy = accuracy_score(y_val, neigh_predict)\n",
    "print(f\"Accuracy Score (validation) after hyperparameter tuning: {accuracy:.6f}\")\n",
    "\n",
    "# Confusion Matrix\n",
    "print(\"Confusion Matrix after hyperparameter tuning for KNeighborsClassifier:\")\n",
    "print(confusion_matrix(y_val, neigh_predict))\n",
    "\n",
    "# Classification Report\n",
    "print(\"=== Classification Report ===\")\n",
    "print(classification_report(y_val, neigh_predict))\n",
    "\n",
    "# Cross-validation AUC scores\n",
    "neigh_cv_score = cross_val_score(neigh, X_train1, y_train, cv=5, scoring=\"roc_auc\")\n",
    "print(\"=== All AUC Scores ===\")\n",
    "print(neigh_cv_score)\n",
    "\n",
    "# Mean AUC Score\n",
    "print(\"=== Mean AUC Score ===\")\n",
    "print(f\"Mean AUC Score - KNeighborsClassifier: {neigh_cv_score.mean():.6f}\")"
   ]
  },
  {
   "cell_type": "code",
   "execution_count": 76,
   "id": "7f6461b3-415e-4764-b333-cde64e6422ab",
   "metadata": {},
   "outputs": [
    {
     "name": "stdout",
     "output_type": "stream",
     "text": [
      "\n",
      "SMOTE\n",
      "Original dataset shape Counter({0: 42183, 1: 9817})\n",
      "Resampled dataset shape Counter({0: 42183, 1: 16873})\n"
     ]
    }
   ],
   "source": [
    "from collections import Counter\n",
    "\n",
    "print(\"\\nSMOTE\")\n",
    "print('Original dataset shape %s' % Counter(y_train))\n",
    "\n",
    "# Apply SMOTE with sampling_strategy\n",
    "#sm = SMOTE(sampling_strategy=0.3, random_state=42) \n",
    "sm = SMOTE(sampling_strategy=0.4, random_state=42) \n",
    "#sm = SMOTE(sampling_strategy=0.5, random_state=42) \n",
    "X_res, y_res = sm.fit_resample(X_train1, y_train)\n",
    "\n",
    "print('Resampled dataset shape %s' % Counter(y_res))"
   ]
  },
  {
   "cell_type": "code",
   "execution_count": 77,
   "id": "b47074c9-e2c6-4e09-adda-8ce37fab2b31",
   "metadata": {},
   "outputs": [
    {
     "name": "stdout",
     "output_type": "stream",
     "text": [
      "\n",
      "Ensemble Methods Predictions\n",
      "\n",
      "task:         [classification]\n",
      "n_classes:    [2]\n",
      "metric:       [accuracy_score]\n",
      "mode:         [oof_pred_bag]\n",
      "n_models:     [5]\n",
      "\n",
      "model  0:     [DecisionTreeClassifier]\n",
      "    fold  0:  [0.90893389]\n",
      "    fold  1:  [0.90930642]\n",
      "    ----\n",
      "    MEAN:     [0.90912016] + [0.00018626]\n",
      "    FULL:     [0.90912016]\n",
      "\n",
      "model  1:     [RandomForestClassifier]\n",
      "    fold  0:  [0.91296397]\n",
      "    fold  1:  [0.91072880]\n",
      "    ----\n",
      "    MEAN:     [0.91184638] + [0.00111758]\n",
      "    FULL:     [0.91184638]\n",
      "\n",
      "model  2:     [MLPClassifier]\n",
      "    fold  0:  [0.80107017]\n",
      "    fold  1:  [0.77851531]\n",
      "    ----\n",
      "    MEAN:     [0.78979274] + [0.01127743]\n",
      "    FULL:     [0.78979274]\n",
      "\n",
      "model  3:     [LinearSVC]\n",
      "    fold  0:  [0.71335681]\n",
      "    fold  1:  [0.49722297]\n",
      "    ----\n",
      "    MEAN:     [0.60528989] + [0.10806692]\n",
      "    FULL:     [0.60528989]\n",
      "\n",
      "model  4:     [KNeighborsClassifier]\n",
      "    fold  0:  [0.69361284]\n",
      "    fold  1:  [0.69097128]\n",
      "    ----\n",
      "    MEAN:     [0.69229206] + [0.00132078]\n",
      "    FULL:     [0.69229206]\n",
      "\n"
     ]
    }
   ],
   "source": [
    "print(\"\\nEnsemble Methods Predictions\\n\")\n",
    "# Predict using each individual model on the validation data\n",
    "predictions = []\n",
    "models = [ dt, rf, mlp, linsvm, neigh]\n",
    "for model in models:\n",
    "    pred = model.predict(X_val)\n",
    "    predictions.append(pred)\n",
    "# Stack the predictions using vecstack\n",
    "S_Train, S_Test = stacking(models,\n",
    "                           X_res, y_res, test_data,\n",
    "                           regression=False,\n",
    "                           mode='oof_pred_bag',\n",
    "                           needs_proba=False,\n",
    "                           save_dir=None,\n",
    "                           metric=accuracy_score,\n",
    "                           n_folds=2,\n",
    "                           stratified=True,\n",
    "                           shuffle=True,\n",
    "                           random_state=0,\n",
    "                           verbose=2)"
   ]
  },
  {
   "cell_type": "code",
   "execution_count": 78,
   "id": "fcf9082a-d160-4495-9689-bea58c651c8d",
   "metadata": {},
   "outputs": [],
   "source": [
    "meta_learner = GradientBoostingClassifier()\n",
    "meta_learner.fit(S_Train, y_res)\n",
    "# Make final predictions using the meta-learner\n",
    "final_predictions = meta_learner.predict(S_Test)"
   ]
  },
  {
   "cell_type": "code",
   "execution_count": 79,
   "id": "f6416b74-b8fb-4ad4-9828-6d975ff6a2ed",
   "metadata": {},
   "outputs": [
    {
     "name": "stdout",
     "output_type": "stream",
     "text": [
      "Fitting 3 folds for each of 5 candidates, totalling 15 fits\n",
      "[CV] END ..learning_rate=0.05, max_depth=3, n_estimators=100; total time=   2.1s\n",
      "[CV] END ..learning_rate=0.05, max_depth=3, n_estimators=100; total time=   2.1s\n",
      "[CV] END ..learning_rate=0.05, max_depth=3, n_estimators=100; total time=   2.3s\n",
      "[CV] END ...learning_rate=0.1, max_depth=3, n_estimators=100; total time=   2.7s\n",
      "[CV] END ...learning_rate=0.1, max_depth=3, n_estimators=100; total time=   2.4s\n",
      "[CV] END ...learning_rate=0.1, max_depth=3, n_estimators=100; total time=   2.5s\n",
      "[CV] END ...learning_rate=0.05, max_depth=3, n_estimators=50; total time=   1.2s\n",
      "[CV] END ...learning_rate=0.05, max_depth=3, n_estimators=50; total time=   1.3s\n",
      "[CV] END ...learning_rate=0.05, max_depth=3, n_estimators=50; total time=   1.1s\n",
      "[CV] END ...learning_rate=0.1, max_depth=5, n_estimators=100; total time=   3.4s\n",
      "[CV] END ...learning_rate=0.1, max_depth=5, n_estimators=100; total time=   3.4s\n",
      "[CV] END ...learning_rate=0.1, max_depth=5, n_estimators=100; total time=   3.4s\n",
      "[CV] END ...learning_rate=0.05, max_depth=5, n_estimators=50; total time=   1.7s\n",
      "[CV] END ...learning_rate=0.05, max_depth=5, n_estimators=50; total time=   1.8s\n",
      "[CV] END ...learning_rate=0.05, max_depth=5, n_estimators=50; total time=   1.8s\n",
      "Best hyperparameters for Gradient Boosting meta-model: {'n_estimators': 100, 'max_depth': 3, 'learning_rate': 0.05}\n"
     ]
    }
   ],
   "source": [
    "param_dist = {\n",
    "    'n_estimators': [50, 100],  # Reduced number of estimators\n",
    "    'learning_rate': [0.05, 0.1],  # Reduced learning rate range\n",
    "    'max_depth': [3, 5],  # Limited to 2 possible values\n",
    "}\n",
    "\n",
    "# Initialize the GradientBoostingClassifier\n",
    "model = GradientBoostingClassifier()\n",
    "\n",
    "# Perform RandomizedSearchCV to tune hyperparameters\n",
    "random_search = RandomizedSearchCV(estimator=model, param_distributions=param_dist, n_iter=5, cv=3, random_state=42, verbose=2)\n",
    "\n",
    "# Fit the RandomizedSearchCV on the training data (stacked features)\n",
    "random_search.fit(S_Train, y_res)\n",
    "\n",
    "# Get the best hyperparameters found during the search\n",
    "print(\"Best hyperparameters for Gradient Boosting meta-model:\", random_search.best_params_)\n",
    "\n",
    "# Use the best estimator (meta-model) from the random search\n",
    "best_model = random_search.best_estimator_\n",
    "\n",
    "# Re-train the meta-model with the best hyperparameters\n",
    "best_model.fit(S_Train, y_res)\n",
    "\n",
    "# Predict using the best model on the test data\n",
    "y_pred = best_model.predict(S_Test)\n"
   ]
  },
  {
   "cell_type": "code",
   "execution_count": 80,
   "id": "5fab41d5-81dc-4a65-974f-6e1f8c34e36a",
   "metadata": {},
   "outputs": [
    {
     "data": {
      "text/html": [
       "<div>\n",
       "<style scoped>\n",
       "    .dataframe tbody tr th:only-of-type {\n",
       "        vertical-align: middle;\n",
       "    }\n",
       "\n",
       "    .dataframe tbody tr th {\n",
       "        vertical-align: top;\n",
       "    }\n",
       "\n",
       "    .dataframe thead th {\n",
       "        text-align: right;\n",
       "    }\n",
       "</style>\n",
       "<table border=\"1\" class=\"dataframe\">\n",
       "  <thead>\n",
       "    <tr style=\"text-align: right;\">\n",
       "      <th></th>\n",
       "      <th>0</th>\n",
       "      <th>1</th>\n",
       "    </tr>\n",
       "  </thead>\n",
       "  <tbody>\n",
       "    <tr>\n",
       "      <th>0</th>\n",
       "      <td>0.947232</td>\n",
       "      <td>0.052768</td>\n",
       "    </tr>\n",
       "    <tr>\n",
       "      <th>1</th>\n",
       "      <td>0.947232</td>\n",
       "      <td>0.052768</td>\n",
       "    </tr>\n",
       "    <tr>\n",
       "      <th>2</th>\n",
       "      <td>0.947232</td>\n",
       "      <td>0.052768</td>\n",
       "    </tr>\n",
       "    <tr>\n",
       "      <th>3</th>\n",
       "      <td>0.947232</td>\n",
       "      <td>0.052768</td>\n",
       "    </tr>\n",
       "    <tr>\n",
       "      <th>4</th>\n",
       "      <td>0.947232</td>\n",
       "      <td>0.052768</td>\n",
       "    </tr>\n",
       "  </tbody>\n",
       "</table>\n",
       "</div>"
      ],
      "text/plain": [
       "          0         1\n",
       "0  0.947232  0.052768\n",
       "1  0.947232  0.052768\n",
       "2  0.947232  0.052768\n",
       "3  0.947232  0.052768\n",
       "4  0.947232  0.052768"
      ]
     },
     "execution_count": 80,
     "metadata": {},
     "output_type": "execute_result"
    }
   ],
   "source": [
    "#Get Prediction Probability for the predicted class as a dataframe\n",
    "pred_Probability = pd.DataFrame(best_model.predict_proba(S_Test))\n",
    "\n",
    "pred_Probability.head()"
   ]
  },
  {
   "cell_type": "code",
   "execution_count": 81,
   "id": "100c969c-1158-4f75-ad50-61994d151c12",
   "metadata": {},
   "outputs": [
    {
     "name": "stdout",
     "output_type": "stream",
     "text": [
      "<class 'pandas.core.frame.DataFrame'>\n"
     ]
    }
   ],
   "source": [
    "print(type(pred_Probability))"
   ]
  },
  {
   "cell_type": "code",
   "execution_count": 82,
   "id": "12db35fb-122d-4132-bec2-a06cd0db0a81",
   "metadata": {},
   "outputs": [],
   "source": [
    "test_ids = test_data['QuoteNumber']  # Adjust this based on your test data\n",
    "\n",
    "quote_conversion_prob = pred_Probability.iloc[:, 1]\n",
    "# Create a submission DataFrame\n",
    "submission = pd.DataFrame({\n",
    "    'QuoteNumber': test_ids,                # Include the QuoteNumber column\n",
    "    'QuoteConversion_Flag': quote_conversion_prob  # Include the predicted probability\n",
    "})"
   ]
  },
  {
   "cell_type": "code",
   "execution_count": 83,
   "id": "64b9af82-2692-4087-ad96-30fab08f2a1d",
   "metadata": {},
   "outputs": [
    {
     "name": "stdout",
     "output_type": "stream",
     "text": [
      "Submission file saved to: C:/Users/kriti/Downloads/submission.csv\n"
     ]
    }
   ],
   "source": [
    "path = \"C:/Users/kriti/Downloads/submission.csv\"\n",
    "\n",
    "# Save the submission file\n",
    "submission.to_csv(path, index=False)\n",
    "\n",
    "print(f\"Submission file saved to: {path}\")"
   ]
  },
  {
   "cell_type": "code",
   "execution_count": null,
   "id": "11401a9e-acfb-486f-9a8a-c4062acf63e5",
   "metadata": {},
   "outputs": [],
   "source": []
  }
 ],
 "metadata": {
  "kernelspec": {
   "display_name": "Python 3 (ipykernel)",
   "language": "python",
   "name": "python3"
  },
  "language_info": {
   "codemirror_mode": {
    "name": "ipython",
    "version": 3
   },
   "file_extension": ".py",
   "mimetype": "text/x-python",
   "name": "python",
   "nbconvert_exporter": "python",
   "pygments_lexer": "ipython3",
   "version": "3.12.4"
  }
 },
 "nbformat": 4,
 "nbformat_minor": 5
}
